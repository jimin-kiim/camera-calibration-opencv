{
 "cells": [
  {
   "cell_type": "markdown",
   "metadata": {},
   "source": [
    "- record a video for about 30 seconds\n",
    "    - resolution: =, shutter speed: fastest, stabilization: turn off\n",
    "    - covering the object in different angles. \n",
    "- drag and drop the video to the exe file.\n",
    "- video -> MJPEG\n",
    "- resolution : 1920*1080\n",
    "- file format : MJPEG\n",
    "- fps: 30fps\n"
   ]
  },
  {
   "cell_type": "code",
   "execution_count": 1,
   "metadata": {},
   "outputs": [
    {
     "name": "stdout",
     "output_type": "stream",
     "text": [
      "True\n",
      "0.2789343940438358 [[459.49627036   0.         462.98078721]\n",
      " [  0.         425.9391768  332.55095914]\n",
      " [  0.           0.           1.        ]] [[-0.13575777  0.0247265   0.00342986  0.00018729 -0.00074961]] (array([[-0.0740356 ],\n",
      "       [ 0.00389051],\n",
      "       [ 0.07810778]]),) (array([[-12.03832935],\n",
      "       [-13.96143027],\n",
      "       [ 20.05135273]]),)\n"
     ]
    }
   ],
   "source": [
    "import cv2 as cv\n",
    "import numpy as np\n",
    "\n",
    "criteria = (cv.TERM_CRITERIA_EPS + cv.TERM_CRITERIA_MAX_ITER, 30, 0.001)\n",
    "\n",
    "W=23\n",
    "L=31\n",
    "\n",
    "# prepare object points, like (0,0,0), (1,0,0), (2,0,0) ....,(6,5,0)\n",
    "objp = np.zeros((W*L, 3), np.float32)\n",
    "objp[:,:2] = np.mgrid[0:L,0:W].T.reshape(-1,2)\n",
    "\n",
    "# Arrays to store object points and image points from all the images.\n",
    "objpoints = [] # 3d point in real world space\n",
    "imgpoints = [] # 2d points in image plane.\n",
    "\n",
    "# imgpath = 'images/sample.jpg'\n",
    "imgpath = 'images/camera_calib5.jpg'\n",
    "img = cv.imread(imgpath)\n",
    "\n",
    "grayscaledimg = cv.cvtColor(img, cv.COLOR_BGR2GRAY)\n",
    "cv.imshow(imgpath, grayscaledimg)\n",
    "cv.waitKey(0)\n",
    "ret, corners = cv.findChessboardCorners(grayscaledimg, (L,W), None)\n",
    "print(ret)\n",
    "\n",
    "if ret == True:\n",
    "    objpoints.append(objp)\n",
    "\n",
    "    corners2 = cv.cornerSubPix(grayscaledimg,corners, (11, 11), (-1, -1), criteria)\n",
    "    imgpoints.append(corners2)\n",
    "\n",
    "    # Draw and display the corners\n",
    "    cv.drawChessboardCorners(img, (L, W), corners2, ret)\n",
    "    window_name = imgpath + ' outputimg'\n",
    "    cv.imshow(window_name, img)\n",
    "    cv.waitKey(0)\n",
    "\n",
    "    ret, mtx, dist, rvecs, tvecs = cv.calibrateCamera(objpoints, imgpoints, grayscaledimg.shape[::-1], None, None)\n",
    "    print(ret, mtx, dist, rvecs, tvecs)"
   ]
  },
  {
   "cell_type": "markdown",
   "metadata": {},
   "source": [
    "## Getting Camera Matrix value from multiple images"
   ]
  },
  {
   "cell_type": "code",
   "execution_count": 4,
   "metadata": {},
   "outputs": [
    {
     "name": "stdout",
     "output_type": "stream",
     "text": [
      "0\n",
      "0 False\n",
      "1 True\n",
      "2 False\n",
      "3 False\n",
      "4 False\n",
      "5 False\n",
      "6 False\n",
      "7 False\n",
      "8 False\n",
      "9 False\n",
      "10 True\n",
      "11 False\n",
      "12 False\n",
      "13 False\n",
      "14 True\n",
      "15 False\n",
      "16 True\n",
      "17 False\n",
      "18 False\n",
      "19 False\n",
      "20 True\n",
      "21 False\n",
      "22 False\n",
      "23 False\n",
      "24\n",
      "24 False\n",
      "[[731.9983358    0.         450.94058942]\n",
      " [  0.         683.60570699 343.07428916]\n",
      " [  0.           0.           1.        ]]\n"
     ]
    }
   ],
   "source": [
    "import cv2 as cv\n",
    "import numpy as np\n",
    "import glob2 as glob\n",
    "\n",
    "# termination criteria\n",
    "criteria = (cv.TERM_CRITERIA_EPS + cv.TERM_CRITERIA_MAX_ITER, 30, 0.001)\n",
    "\n",
    "W=23\n",
    "L=31\n",
    "\n",
    "# prepare object points, like (0,0,0), (1,0,0), (2,0,0) ....,(6,5,0)\n",
    "objp = np.zeros((W*L, 3), np.float32)\n",
    "objp[:,:2] = np.mgrid[0:L,0:W].T.reshape(-1,2)\n",
    " \n",
    "# Arrays to store object points and image points from all the images.\n",
    "objpoints = [] # 3d point in real world space\n",
    "imgpoints = [] # 2d points in image plane.\n",
    " \n",
    "images_regex = 'images/camera_calib*.jpg'\n",
    "images = glob.glob(images_regex) # recursively retrieving files with regex\n",
    " \n",
    "for idx, fname  in enumerate(images):\n",
    "    if idx == 0 or idx == len(images) - 1: print(idx)\n",
    "    img = cv.imread(fname)\n",
    "    grayscaledimg = cv.cvtColor(img, cv.COLOR_BGR2GRAY)\n",
    "    # cv.imshow(fname, grayscaledimg)\n",
    "    # cv.waitKey(0)\n",
    " \n",
    "    # Find the chess board corners\n",
    "    ret, corners = cv.findChessboardCorners(grayscaledimg, (31,23), None)\n",
    "    # if idx == 0 or idx == len(images) - 1: \n",
    "    print(idx, ret) # 10, 19, 22, 24, 5\n",
    "    # Question: some of the sample files returned True for the function fincChessboardCorners and some are not. \n",
    "    # -> https://stackoverflow.com/questions/66225558/cv2-findchessboardcorners-fails-to-find-corners\n",
    " \n",
    "    # If found, add object points, image points (after refining them)\n",
    "    if ret == True:\n",
    "        objpoints.append(objp)\n",
    " \n",
    "        corners2 = cv.cornerSubPix(grayscaledimg,corners, (11,11), (-1,-1), criteria)\n",
    "        imgpoints.append(corners2)\n",
    " \n",
    "        # Draw and display the corners\n",
    "        cv.drawChessboardCorners(img, (31,23), corners2, ret)\n",
    "        window_name = fname + ' outputimg'\n",
    "        cv.imshow(window_name, img)\n",
    "        # cv.waitKey(500)\n",
    "        cv.waitKey(0)\n",
    "\n",
    "ret, mtx, dist, rvecs, tvecs = cv.calibrateCamera(objpoints, imgpoints, grayscaledimg.shape[::-1], None, None)\n",
    "print(mtx)\n",
    "#cv.destroyAllWindows()"
   ]
  },
  {
   "cell_type": "markdown",
   "metadata": {},
   "source": [
    "## Getting Camera Matrix value from MJPEG file"
   ]
  },
  {
   "cell_type": "code",
   "execution_count": null,
   "metadata": {},
   "outputs": [
    {
     "name": "stdout",
     "output_type": "stream",
     "text": [
      "['FFMPEG', 'GSTREAMER', 'INTEL_MFX', 'MSMF', 'MSMF', 'DSHOW', 'CV_IMAGES', 'CV_MJPEG', 'UEYE', 'OBSENSOR']\n",
      "< cv2.VideoCapture 000002705B171430>\n",
      "Frame available exist: True\n"
     ]
    },
    {
     "ename": "error",
     "evalue": "OpenCV(4.11.0) :-1: error: (-5:Bad argument) in function 'imread'\n> Overload resolution failed:\n>  - Expected 'filename' to be a str or path-like object\n>  - Expected 'filename' to be a str or path-like object\n>  - Expected 'filename' to be a str or path-like object\n",
     "output_type": "error",
     "traceback": [
      "\u001b[1;31m---------------------------------------------------------------------------\u001b[0m",
      "\u001b[1;31merror\u001b[0m                                     Traceback (most recent call last)",
      "Cell \u001b[1;32mIn[11], line 32\u001b[0m\n\u001b[0;32m     29\u001b[0m \u001b[38;5;28mprint\u001b[39m(\u001b[38;5;124m\"\u001b[39m\u001b[38;5;124mFrame available exist:\u001b[39m\u001b[38;5;124m\"\u001b[39m, ret)\n\u001b[0;32m     31\u001b[0m \u001b[38;5;28;01mif\u001b[39;00m ret:\n\u001b[1;32m---> 32\u001b[0m     img \u001b[38;5;241m=\u001b[39m \u001b[43mcv\u001b[49m\u001b[38;5;241;43m.\u001b[39;49m\u001b[43mimread\u001b[49m\u001b[43m(\u001b[49m\u001b[43mframe\u001b[49m\u001b[43m)\u001b[49m \u001b[38;5;66;03m# read the frame as a image. \u001b[39;00m\n\u001b[0;32m     33\u001b[0m     cv\u001b[38;5;241m.\u001b[39mimshow(\u001b[38;5;124m'\u001b[39m\u001b[38;5;124mframe read\u001b[39m\u001b[38;5;124m'\u001b[39m, img)\n\u001b[0;32m     34\u001b[0m     cv\u001b[38;5;241m.\u001b[39mwaitKey(\u001b[38;5;241m0\u001b[39m)\n",
      "\u001b[1;31merror\u001b[0m: OpenCV(4.11.0) :-1: error: (-5:Bad argument) in function 'imread'\n> Overload resolution failed:\n>  - Expected 'filename' to be a str or path-like object\n>  - Expected 'filename' to be a str or path-like object\n>  - Expected 'filename' to be a str or path-like object\n"
     ]
    }
   ],
   "source": [
    "import cv2 as cv\n",
    "import numpy as np\n",
    "\n",
    "# termination criteria\n",
    "criteria = (cv.TERM_CRITERIA_EPS + cv.TERM_CRITERIA_MAX_ITER, 30, 0.001)\n",
    "\n",
    "W=7\n",
    "L=10 \n",
    "\n",
    "# prepare object points, like (0,0,0), (1,0,0), (2,0,0) ....,(6,5,0)\n",
    "objp = np.zeros((W*L, 3), np.float32)\n",
    "objp[:,:2] = np.mgrid[0:L, 0:W].T.reshape(-1, 2)\n",
    " \n",
    "# Arrays to store object points and image points from all the images.\n",
    "objpoints = [] # 3d point in real world space\n",
    "imgpoints = [] # 2d points in image plane.\n",
    "\n",
    "# preparting videoio registry \n",
    "availableBackends = [cv.videoio_registry.getBackendName(b) for b in cv.videoio_registry.getBackends()]\n",
    "print(availableBackends)\n",
    "\n",
    "videopath = 'input/test3.mjpg'\n",
    "cap = cv.VideoCapture(videopath, cv.CAP_OPENCV_MJPEG) # capturing a video file. after capturing -> can read the frames onr by one.\n",
    "print(cap)\n",
    "# value of the constants: https://docs.opencv.org/4.3.0/d4/d15/group__videoio__flags__base.html ;  stored using enum. \n",
    "\n",
    "while (cap.isOpened()):\n",
    "    ret, frame = cap.read()  # read the next frame of the video. \n",
    "    print(\"Frame available exist:\", ret)\n",
    "\n",
    "    if ret:\n",
    "        img = cv.imread(frame) # read the frame as a image. \n",
    "        cv.imshow('frame read', img)\n",
    "        cv.waitKey(0)\n",
    "        grayscaledimg = cv.cvtColor(img, cv.COLOR_BGR2GRAY)\n",
    " \n",
    "        # Find the chess board corners\n",
    "        ret, corners = cv.findChessboardCorners(grayscaledimg, (L, W), None)\n",
    "        print(idx, ret) \n",
    "\n",
    "        if ret == True:\n",
    "            objpoints.append(objp)\n",
    "    \n",
    "            corners2 = cv.cornerSubPix(grayscaledimg, corners, (11,11), (-1,-1), criteria)\n",
    "            imgpoints.append(corners2)\n",
    "    \n",
    "            # Draw and display the corners\n",
    "            cv.drawChessboardCorners(img, (L, W), corners2, ret)\n",
    "\n",
    "        ret, mtx, dist, rvecs, tvecs = cv.calibrateCamera(objpoints, imgpoints, grayscaledimg.shape[::-1], None, None)\n",
    "        print(mtx)\n",
    "    else: # all the frames are grabbed and there's no remaining frame of the video. \n",
    "        break\n",
    "\n",
    "cap.release() # closing a video file\n",
    "\n"
   ]
  }
 ],
 "metadata": {
  "kernelspec": {
   "display_name": ".venv",
   "language": "python",
   "name": "python3"
  },
  "language_info": {
   "codemirror_mode": {
    "name": "ipython",
    "version": 3
   },
   "file_extension": ".py",
   "mimetype": "text/x-python",
   "name": "python",
   "nbconvert_exporter": "python",
   "pygments_lexer": "ipython3",
   "version": "3.13.1"
  }
 },
 "nbformat": 4,
 "nbformat_minor": 2
}
