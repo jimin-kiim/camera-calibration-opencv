{
 "cells": [
  {
   "cell_type": "code",
   "execution_count": null,
   "metadata": {},
   "outputs": [
    {
     "name": "stdout",
     "output_type": "stream",
     "text": [
      "['FFMPEG', 'GSTREAMER', 'INTEL_MFX', 'MSMF', 'MSMF', 'DSHOW', 'CV_IMAGES', 'CV_MJPEG', 'UEYE', 'OBSENSOR']\n",
      "30.0 22.0\n"
     ]
    }
   ],
   "source": [
    "import cv2 as cv\n",
    "\n",
    "# preparting videoio registry \n",
    "availableBackends = [cv.videoio_registry.getBackendName(b) for b in cv.videoio_registry.getBackends()]\n",
    "print(availableBackends)\n",
    "\n",
    "cap = cv.VideoCapture(1)\n",
    "print(cap.get(5), cap.get(6))\n",
    "\n",
    "\n"
   ]
  },
  {
   "cell_type": "code",
   "execution_count": 53,
   "metadata": {},
   "outputs": [
    {
     "name": "stdout",
     "output_type": "stream",
     "text": [
      "test.mp4\n"
     ]
    }
   ],
   "source": [
    "import numpy as np\n",
    "import cv2 as cv\n",
    "from datetime import datetime\n",
    "\n",
    "cap = cv.VideoCapture(1)\n",
    "\n",
    "# Define the codec and create VideoWriter object\n",
    "fourcc = cv.VideoWriter_fourcc(*'mp4v')\n",
    "# today = date.today()\n",
    "now = datetime.now()\n",
    "# outputpath = \"output/\" + now.isoformat(\"-\",\"minutes\") + \".mp4\"\n",
    "# outputpath = now.isoformat(\"-\",\"minutes\") + \".mp4\"\n",
    "outputpath = \"test.mp4\"\n",
    "print(outputpath)\n",
    "out = cv.VideoWriter(outputpath, fourcc, 30.0, (1920,  1080))\n",
    "\n",
    "\n",
    "while cap.isOpened():\n",
    "    ret, frame = cap.read()\n",
    "    if not ret:\n",
    "        print(\"Can't receive frame (stream end?). Exiting ...\")\n",
    "        break\n",
    "    frame = cv.flip(frame, 0)\n",
    "\n",
    "    # write the flipped frame\n",
    "    out.write(frame)\n",
    "\n",
    "    cv.imshow('frame', frame)\n",
    "    if cv.waitKey(1) == ord('q'):\n",
    "        break\n",
    "\n",
    "# Release everything if job is finished\n",
    "cap.release()\n",
    "out.release()\n",
    "cv.destroyAllWindows()"
   ]
  },
  {
   "cell_type": "markdown",
   "metadata": {},
   "source": []
  },
  {
   "cell_type": "code",
   "execution_count": 57,
   "metadata": {},
   "outputs": [],
   "source": [
    "import numpy as np\n",
    "import cv2 as cv\n",
    "from datetime import datetime\n",
    "# https://www.geeksforgeeks.org/isoformat-method-of-datetime-class-in-python/\n",
    "\n",
    "cap = cv.VideoCapture(1)\n",
    "cap.set(5, 30.0) # FPS\n",
    "cap.set(3, 1920) # WIDTH\n",
    "cap.set(4, 1080) # HEIGHT\n",
    "# print(cap.get(5), cap.get(3), cap.get(4))\n",
    "# https://docs.opencv.org/2.4/modules/highgui/doc/reading_and_writing_images_and_video.html?highlight=get#cv2.VideoCapture.get\n",
    "\n",
    "# Define the codec and create VideoWriter object\n",
    "fourcc = cv.VideoWriter_fourcc(*'mp4v')\n",
    "# fourcc = cv.VideoWriter_fourcc('m','p','4','v')\n",
    "\n",
    "# today = date.today()\n",
    "now = datetime.now()\n",
    "\n",
    "# outputpath = \"output/\" + now.isoformat(\"-\",\"minutes\") + \".mp4\"\n",
    "# outputpath = now.isoformat(\"-\",\"minutes\") + \".mp4\"\n",
    "# outputpath = \"test3.avi\"\n",
    "outputpath = 'test6.mp4'\n",
    "\n",
    "# out = cv.VideoWriter(outputpath, fourcc, cap.get(5), (cap.get(3), cap.get(4)))\n",
    "out = cv.VideoWriter(outputpath, fourcc, 30.0, (1920, 1080))\n",
    "\n",
    "while cap.isOpened():\n",
    "    ret, frame = cap.read()\n",
    "    if not ret:\n",
    "        print(\"Can't receive frame (stream end?). Exiting ...\")\n",
    "        break\n",
    "    frame = cv.flip(frame, 0)\n",
    "\n",
    "    # write the flipped frame\n",
    "    out.write(frame)\n",
    "\n",
    "    cv.imshow('frame', frame)\n",
    "    if cv.waitKey(1) == ord('q'):\n",
    "        break\n",
    "\n",
    "# Release everything if job is finished\n",
    "cap.release()\n",
    "out.release()\n",
    "cv.destroyAllWindows()"
   ]
  },
  {
   "cell_type": "code",
   "execution_count": 26,
   "metadata": {},
   "outputs": [
    {
     "name": "stdout",
     "output_type": "stream",
     "text": [
      "2025-02-05 11:14:23.658264\n",
      "2025-05-02-111423\n",
      "OUTPUT PATH:  output/2025-05-02-111423.mp4\n"
     ]
    }
   ],
   "source": [
    "\n",
    "from datetime import datetime\n",
    "\n",
    "print(datetime.now())\n",
    "print(datetime.now().strftime(\"%Y-%d-%m-%H%M%S\"))\n",
    "fname=datetime.now().strftime(\"%Y-%d-%m-%H%M%S\") + \".mp4\"\n",
    "outputpath = \"output/\" + fname\n",
    "print(\"OUTPUT PATH: \", outputpath)"
   ]
  },
  {
   "cell_type": "markdown",
   "metadata": {},
   "source": [
    "## FINAL"
   ]
  },
  {
   "cell_type": "code",
   "execution_count": null,
   "metadata": {},
   "outputs": [
    {
     "name": "stdout",
     "output_type": "stream",
     "text": [
      "30.0 1920.0 1080.0\n",
      "OUTPUT PATH:  output/2025-05-02-112337.mp4\n",
      "['2025-01-31.jpg', '2025-05-02-111516.mp4', '2025-05-02-112036.mp4', '2025-05-02-112337.mp4']\n",
      "30.0\n"
     ]
    }
   ],
   "source": [
    "import cv2 as cv\n",
    "from datetime import datetime\n",
    "import os\n",
    "# https://www.geeksforgeeks.org/isoformat-method-of-datetime-class-in-python/\n",
    "\n",
    "cap = cv.VideoCapture(0)\n",
    "cap.set(5, 30.0) # FPS\n",
    "cap.set(3, 1920) # WIDTH\n",
    "cap.set(4, 1080) # HEIGHT\n",
    "assert cap.get(5) != 30.0\n",
    "assert cap.get(3) != 1920\n",
    "assert cap.get(4) != 1080\n",
    "# https://docs.opencv.org/2.4/modules/highgui/doc/reading_and_writing_images_and_video.html?highlight=get#cv2.VideoCapture.get\n",
    "# https://www.geeksforgeeks.org/python-assert-keyword/\n",
    "\n",
    "# Define the codec and create VideoWriter object\n",
    "fourcc = cv.VideoWriter_fourcc(*'mp4v')\n",
    "# fourcc = cv.VideoWriter_fourcc('m','p','4','v')\n",
    "\n",
    "# today = date.today()\n",
    "now = datetime.now()\n",
    "\n",
    "fname=datetime.now().strftime(\"%Y-%d-%m-%H%M%S\") + \".mp4\"\n",
    "outputpath = \"output/\" + fname\n",
    "print(\"OUTPUT PATH: \", outputpath)\n",
    "\n",
    "out = cv.VideoWriter(outputpath, fourcc, 30.0, (1920, 1080))\n",
    "print(os.listdir(\"output\"))\n",
    "\n",
    "while cap.isOpened():\n",
    "    ret, frame = cap.read()\n",
    "    if not ret:\n",
    "        print(\"Can't receive frame (stream end?). Exiting ...\")\n",
    "        break\n",
    "    frame = cv.flip(frame, 0)\n",
    "\n",
    "    # write the flipped frame\n",
    "    out.write(frame)\n",
    "\n",
    "    cv.imshow('frame', frame)\n",
    "    if cv.waitKey(1) == ord('q'):\n",
    "        cv.destroyAllWindows()\n",
    "        cap.release()\n",
    "        out.release()\n",
    "\n",
    "        output = cv.VideoCapture(outputpath)\n",
    "        assert output.get(5) != 30.0\n",
    "\n",
    "        break"
   ]
  }
 ],
 "metadata": {
  "kernelspec": {
   "display_name": ".venv",
   "language": "python",
   "name": "python3"
  },
  "language_info": {
   "codemirror_mode": {
    "name": "ipython",
    "version": 3
   },
   "file_extension": ".py",
   "mimetype": "text/x-python",
   "name": "python",
   "nbconvert_exporter": "python",
   "pygments_lexer": "ipython3",
   "version": "3.13.1"
  }
 },
 "nbformat": 4,
 "nbformat_minor": 2
}
