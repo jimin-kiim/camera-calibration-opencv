{
 "cells": [
  {
   "cell_type": "code",
   "execution_count": 4,
   "metadata": {},
   "outputs": [
    {
     "ename": "ModuleNotFoundError",
     "evalue": "No module named 'cv2'",
     "output_type": "error",
     "traceback": [
      "\u001b[0;31m---------------------------------------------------------------------------\u001b[0m",
      "\u001b[0;31mModuleNotFoundError\u001b[0m                       Traceback (most recent call last)",
      "Cell \u001b[0;32mIn[4], line 1\u001b[0m\n\u001b[0;32m----> 1\u001b[0m \u001b[38;5;28;01mimport\u001b[39;00m\u001b[38;5;250m \u001b[39m\u001b[38;5;21;01mcv2\u001b[39;00m\u001b[38;5;250m \u001b[39m\u001b[38;5;28;01mas\u001b[39;00m\u001b[38;5;250m \u001b[39m\u001b[38;5;21;01mcv\u001b[39;00m\n\u001b[1;32m      3\u001b[0m \u001b[38;5;66;03m# preparting videoio registry \u001b[39;00m\n\u001b[1;32m      4\u001b[0m availableBackends \u001b[38;5;241m=\u001b[39m [cv\u001b[38;5;241m.\u001b[39mvideoio_registry\u001b[38;5;241m.\u001b[39mgetBackendName(b) \u001b[38;5;28;01mfor\u001b[39;00m b \u001b[38;5;129;01min\u001b[39;00m cv\u001b[38;5;241m.\u001b[39mvideoio_registry\u001b[38;5;241m.\u001b[39mgetBackends()]\n",
      "\u001b[0;31mModuleNotFoundError\u001b[0m: No module named 'cv2'"
     ]
    }
   ],
   "source": [
    "import cv2 as cv\n",
    "\n",
    "# preparting videoio registry \n",
    "availableBackends = [cv.videoio_registry.getBackendName(b) for b in cv.videoio_registry.getBackends()]\n",
    "print(availableBackends)\n",
    "\n",
    "cap = cv.VideoCapture(1)\n",
    "print(cap.get(5), cap.get(6))\n",
    "\n",
    "\n"
   ]
  },
  {
   "cell_type": "code",
   "execution_count": 50,
   "metadata": {},
   "outputs": [
    {
     "name": "stdout",
     "output_type": "stream",
     "text": [
      "test.mp4\n"
     ]
    }
   ],
   "source": [
    "import numpy as np\n",
    "import cv2 as cv\n",
    "from datetime import datetime\n",
    "\n",
    "cap = cv.VideoCapture(1)\n",
    "\n",
    "# Define the codec and create VideoWriter object\n",
    "fourcc = cv.VideoWriter_fourcc(*'mp4v')\n",
    "# today = date.today()\n",
    "now = datetime.now()\n",
    "# outputpath = \"output/\" + now.isoformat(\"-\",\"minutes\") + \".mp4\"\n",
    "# outputpath = now.isoformat(\"-\",\"minutes\") + \".mp4\"\n",
    "outputpath = \"test.mp4\"\n",
    "print(outputpath)\n",
    "out = cv.VideoWriter(outputpath, fourcc, 30.0, (1920,  1080))\n",
    "\n",
    "\n",
    "while cap.isOpened():\n",
    "    ret, frame = cap.read()\n",
    "    if not ret:\n",
    "        print(\"Can't receive frame (stream end?). Exiting ...\")\n",
    "        break\n",
    "    frame = cv.flip(frame, 0)\n",
    "\n",
    "    # write the flipped frame\n",
    "    out.write(frame)\n",
    "\n",
    "    cv.imshow('frame', frame)\n",
    "    if cv.waitKey(1) == ord('q'):\n",
    "        break\n",
    "\n",
    "# Release everything if job is finished\n",
    "cap.release()\n",
    "out.release()\n",
    "cv.destroyAllWindows()"
   ]
  },
  {
   "cell_type": "markdown",
   "metadata": {},
   "source": [
    "https://docs.opencv.org/4.x/dd/d43/tutorial_py_video_display.html"
   ]
  },
  {
   "cell_type": "code",
   "execution_count": 57,
   "metadata": {},
   "outputs": [],
   "source": [
    "import numpy as np\n",
    "import cv2 as cv\n",
    "from datetime import datetime\n",
    "# https://www.geeksforgeeks.org/isoformat-method-of-datetime-class-in-python/\n",
    "\n",
    "cap = cv.VideoCapture(1)\n",
    "cap.set(5, 30.0) # FPS\n",
    "cap.set(3, 1920) # WIDTH\n",
    "cap.set(4, 1080) # HEIGHT\n",
    "# print(cap.get(5), cap.get(3), cap.get(4))\n",
    "# https://docs.opencv.org/2.4/modules/highgui/doc/reading_and_writing_images_and_video.html?highlight=get#cv2.VideoCapture.get\n",
    "\n",
    "# Define the codec and create VideoWriter object\n",
    "fourcc = cv.VideoWriter_fourcc(*'mp4v')\n",
    "# fourcc = cv.VideoWriter_fourcc('m','p','4','v')\n",
    "\n",
    "# today = date.today()\n",
    "now = datetime.now()\n",
    "\n",
    "# outputpath = \"output/\" + now.isoformat(\"-\",\"minutes\") + \".mp4\"\n",
    "# outputpath = now.isoformat(\"-\",\"minutes\") + \".mp4\"\n",
    "# outputpath = \"test3.avi\"\n",
    "outputpath = 'test6.mp4'\n",
    "\n",
    "# out = cv.VideoWriter(outputpath, fourcc, cap.get(5), (cap.get(3), cap.get(4)))\n",
    "out = cv.VideoWriter(outputpath, fourcc, 30.0, (1920, 1080))\n",
    "\n",
    "while cap.isOpened():\n",
    "    ret, frame = cap.read()\n",
    "    if not ret:\n",
    "        print(\"Can't receive frame (stream end?). Exiting ...\")\n",
    "        break\n",
    "    frame = cv.flip(frame, 0)\n",
    "\n",
    "    # write the flipped frame\n",
    "    out.write(frame)\n",
    "\n",
    "    cv.imshow('frame', frame)\n",
    "    if cv.waitKey(1) == ord('q'):\n",
    "        break\n",
    "\n",
    "# Release everything if job is finished\n",
    "cap.release()\n",
    "out.release()\n",
    "cv.destroyAllWindows()"
   ]
  },
  {
   "cell_type": "code",
   "execution_count": 26,
   "metadata": {},
   "outputs": [
    {
     "name": "stdout",
     "output_type": "stream",
     "text": [
      "2025-02-05 11:14:23.658264\n",
      "2025-05-02-111423\n",
      "OUTPUT PATH:  output/2025-05-02-111423.mp4\n"
     ]
    }
   ],
   "source": [
    "\n",
    "from datetime import datetime\n",
    "\n",
    "print(datetime.now())\n",
    "print(datetime.now().strftime(\"%Y-%d-%m-%H%M%S\"))\n",
    "fname=datetime.now().strftime(\"%Y-%d-%m-%H%M%S\") + \".mp4\"\n",
    "outputpath = \"output/\" + fname\n",
    "print(\"OUTPUT PATH: \", outputpath)"
   ]
  },
  {
   "cell_type": "code",
   "execution_count": 32,
   "metadata": {},
   "outputs": [],
   "source": [
    "import cv2 as cv\n",
    "\n",
    "cap = cv.VideoCapture(0)\n",
    "cap.set(5, 30.0) # FPS\n",
    "cap.set(3, 1920) # WIDTH\n",
    "cap.set(4, 1080) # HEIGHT\n",
    "assert cap.get(5) == 30.0\n",
    "assert cap.get(3) == 1920\n",
    "assert cap.get(4) == 1080"
   ]
  },
  {
   "cell_type": "markdown",
   "metadata": {},
   "source": [
    "## FINAL"
   ]
  },
  {
   "cell_type": "code",
   "execution_count": 52,
   "metadata": {},
   "outputs": [
    {
     "name": "stdout",
     "output_type": "stream",
     "text": [
      "FPS:  30.00003000003\n",
      "['2025-01-31.jpg', '2025-02-05-140252.mp4', '2025-02-05-140420.mp4', '2025-02-05-140600.mp4', '2025-02-05-140757.mp4', '2025-02-05-140945.mp4', '2025-02-05-142131.mp4', '2025-02-05-142226.mp4', '2025-02-05-142331.mp4', '2025-02-05-142727.mp4', '2025-02-05-155915.mp4', '2025-05-02-111516.mp4', '2025-05-02-112036.mp4', '2025-05-02-112337.mp4', '2025-05-02-113424.mp4', '2025-05-02-113534.mp4', '2025-05-02-114918.mp4', '2025-05-02-133536.mp4', '2025-05-02-133720.mp4', 'opencv_videoio_ffmpeg452_64.dll', 'opencv_video_calib.exe', 'opencv_video_undistort.exe', 'opencv_world452.dll']\n"
     ]
    }
   ],
   "source": [
    "import cv2 as cv\n",
    "from datetime import datetime\n",
    "import os\n",
    "\n",
    "cap = cv.VideoCapture(0, cv.CAP_DSHOW)\n",
    "cap.set(5, 30.0) # FPS\n",
    "cap.set(3, 1920) # WIDTH\n",
    "cap.set(4, 1080) # HEIGHT\n",
    "print(\"FPS: \", cap.get(5))\n",
    "# https://docs.opencv.org/2.4/modules/highgui/doc/reading_and_writing_images_and_video.html?highlight=get#cv2.VideoCapture.get\n",
    "# https://www.geeksforgeeks.org/python-assert-keyword/\n",
    "\n",
    "# Define the codec and create VideoWriter object\n",
    "fourcc = cv.VideoWriter_fourcc(*'mp4v')\n",
    "\n",
    "now = datetime.now()\n",
    "\n",
    "fname=datetime.now().strftime(\"%Y-%m-%d-%H%M%S\") + \".mp4\"\n",
    "outputpath = \"output/\" + fname\n",
    "out = cv.VideoWriter(outputpath, fourcc, 30.0, (1920, 1080))\n",
    "print(os.listdir(\"output\"))\n",
    "\n",
    "while cap.isOpened():\n",
    "    ret, frame = cap.read()\n",
    "    if not ret:\n",
    "        print(\"Can't receive frame (stream end?). Exiting ...\")\n",
    "        break\n",
    "\n",
    "    out.write(frame)\n",
    "    cv.imshow('frame', frame)\n",
    "\n",
    "    if cv.waitKey(1) == ord('q'):\n",
    "        cv.destroyAllWindows()\n",
    "        cap.release()\n",
    "        out.release()\n",
    "\n",
    "        break"
   ]
  },
  {
   "cell_type": "markdown",
   "metadata": {},
   "source": [
    "## Using GStreamer instead of hardcoding"
   ]
  },
  {
   "cell_type": "markdown",
   "metadata": {},
   "source": [
    "- conncect the crb\n",
    "- move to the working directory\n",
    "    - $ cd Works/2.isx031-preview\n",
    "- check and set the working directory available \n",
    "    - $ cat /sys/class/video4linux/*/name | grep isx\n",
    "    - $ chmod +x check_module.sh \n",
    "    - cat gst-e.sh .... : running each of the camreras\n",
    "    cat ./gst-run.sh : running all the cameras at once.\n",
    "- verify the list of available video devices    \n",
    "     - $ ls /dev/video*\n",
    "- create more shell scripts if needed\n",
    "    - $  cp gst-e.sh gst-f.sh \n",
    "    - $ vi gst-f.sh\n",
    "\n",
    "- open the code used til wednesday and apply the code for each of the cameras. (4 cameras.)\n",
    "- find out the camera matrix of them, respectively. (~ friday.)\n"
   ]
  },
  {
   "cell_type": "code",
   "execution_count": 3,
   "metadata": {},
   "outputs": [
    {
     "name": "stdout",
     "output_type": "stream",
     "text": [
      "4.11.0\n"
     ]
    }
   ],
   "source": [
    "import cv2 as cv\n",
    "print(cv.__version__)"
   ]
  },
  {
   "cell_type": "code",
   "execution_count": 31,
   "metadata": {},
   "outputs": [
    {
     "name": "stdout",
     "output_type": "stream",
     "text": [
      "Already applied /usr/local\n",
      "['/usr/lib/python310.zip', '/usr/lib/python3.10', '/usr/lib/python3.10/lib-dynload', '', '/home/intel/jimin/camera-calibration-trial/venv/lib/python3.10/site-packages', '/usr/local', '/home/intel/Works/2.isx031-preview/opencv']\n"
     ]
    }
   ],
   "source": [
    "import sys\n",
    "# print(sys.path)\n",
    "path = '/home/intel/Works/2.isx031-preview/opencv'\n",
    "localpath = '/usr/local'\n",
    "\n",
    "sys_list = sys.path\n",
    "\n",
    "sys_list.remove(path)\n",
    "if path not in sys_list:\n",
    "    sys_list.append(path)\n",
    "else: \n",
    "    print(\"Already applied\", path)\n",
    "\n",
    "if localpath not in sys_list:\n",
    "    sys_list.append(localpath)\n",
    "else:\n",
    "    print(\"Already applied\", localpath)\n",
    "\n",
    "print(sys.path)\n"
   ]
  },
  {
   "cell_type": "code",
   "execution_count": 36,
   "metadata": {},
   "outputs": [
    {
     "name": "stdout",
     "output_type": "stream",
     "text": [
      "4.11.0\n",
      "/home/intel/jimin/camera-calibration-trial/venv/lib/python3.10/site-packages/cv2/__init__.py\n"
     ]
    }
   ],
   "source": [
    "import sys\n",
    "import cv2 as cv\n",
    "print(cv.__version__)\n",
    "print(cv.__file__)"
   ]
  },
  {
   "cell_type": "code",
   "execution_count": 29,
   "metadata": {},
   "outputs": [
    {
     "name": "stdout",
     "output_type": "stream",
     "text": [
      "FPS:  0.0\n",
      "False\n",
      "['2025-02-06-171240.mp4', '2025-02-06-164249.mp4', '2025-02-07-110305.mp4', '2025-02-07-103045.mp4', '2025-02-06-161511.mp4', '2025-02-07-102904.mp4', '2025-02-06-162022.mp4', '2025-02-07-114505.mp4', '2025-02-07-133855.mp4', '2025-02-07-134336.mp4', '2025-02-07-114509.mp4', '2025-02-07-102937.mp4', '2025-02-06-162320.mp4', '2025-02-06-165457.mp4', '2025-02-07-103159.mp4', '2025-02-06-165416.mp4', '2025-02-07-134907.mp4', '2025-02-07-114148.mp4', '2025-02-07-101423.mp4', '2025-01-31.jpg', '2025-02-07-112525.mp4']\n"
     ]
    }
   ],
   "source": [
    "import cv2 as cv\n",
    "from datetime import datetime\n",
    "import os\n",
    "\n",
    "gstreamer_str = \"icamerasrc device-name=isx031-e ! video/x-raw,format=UYVY,width=1920,height=1080 ! videoconvert ! appsink\"\n",
    "            # ximagesource\"\n",
    "            # ximagesink: video frame into XWindow local/remote display    \n",
    "# # gst-launch-1.0: build and run GStreamer pipeline. \n",
    "# icamerasrc: option for source file and in this case, it's for icamera, use 'icamersrc'\n",
    "# video/x-raw: unstructured and uncompressed raw video data. else: x-ffv, x-h263, x-huffyuv .... etc.     \n",
    "# # print-fps : ** couldn't find that where the value is printed. -> deleted      \n",
    "# video convert : one of GstVideo Convert Scale (video convert, video convert scale, video scale)\n",
    "                                                                                                                                                                                                                                                                                                                                                                                                                                                                                      \n",
    "cap = cv.VideoCapture(gstreamer_str, cv.CAP_GSTREAMER)\n",
    "# cap = cv.VideoCapture(1) -> [ WARN:0@982.602] global ``````````````````cap_v4l.cpp:913 open VIDEOIO(V4L2:/dev/video1): can't open camera by index\n",
    "\n",
    "cap.set(5, 30.0) # FPS\n",
    "cap.set(3, 1920) # WIDTH\n",
    "cap.set(4, 1080) # HEIGHT\n",
    "print(\"FPS: \", cap.get(5))\n",
    "print(cap.isOpened())\n",
    "# https://docs.opencv.org/2.4/modules/highgui/doc/reading_and_writing_images_and_video.html?highlight=get#cv2.VideoCapture.get\n",
    "# https://www.geeksforgeeks.org/python-assert-keyword/\n",
    "\n",
    "# Define the codec and create VideoWriter object\n",
    "fourcc = cv.VideoWriter_fourcc(*'mp4v')\n",
    "\n",
    "now = datetime.now()\n",
    "\n",
    "fname=datetime.now().strftime(\"%Y-%m-%d-%H%M%S\") + \".mp4\"\n",
    "outputpath = \"output/\" + fname\n",
    "out = cv.VideoWriter(outputpath, fourcc, 30.0, (1920, 1080))\n",
    "print(os.listdir(\"output\"))\n",
    "\n",
    "while cap.isOpened():\n",
    "    ret, frame = cap.read()\n",
    "    if not ret:\n",
    "        print(\"Can't receive frame (stream end?). Exiting ...\")\n",
    "        break\n",
    "\n",
    "    out.write(frame)\n",
    "    cv.imshow('frame', frame)\n",
    "\n",
    "    if cv.waitKey(1) == ord('q'):\n",
    "        cv.destroyAllWindows()\n",
    "        cap.release()\n",
    "        out.release()\n",
    "\n",
    "        break"
   ]
  }
 ],
 "metadata": {
  "kernelspec": {
   "display_name": "venv",
   "language": "python",
   "name": "python3"
  },
  "language_info": {
   "codemirror_mode": {
    "name": "ipython",
    "version": 3
   },
   "file_extension": ".py",
   "mimetype": "text/x-python",
   "name": "python",
   "nbconvert_exporter": "python",
   "pygments_lexer": "ipython3",
   "version": "3.10.12"
  }
 },
 "nbformat": 4,
 "nbformat_minor": 2
}
