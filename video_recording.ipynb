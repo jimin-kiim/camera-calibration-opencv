{
 "cells": [
  {
   "cell_type": "code",
   "execution_count": null,
   "metadata": {},
   "outputs": [
    {
     "name": "stdout",
     "output_type": "stream",
     "text": [
      "['FFMPEG', 'GSTREAMER', 'INTEL_MFX', 'MSMF', 'MSMF', 'DSHOW', 'CV_IMAGES', 'CV_MJPEG', 'UEYE', 'OBSENSOR']\n",
      "30.0 22.0\n"
     ]
    }
   ],
   "source": [
    "import cv2 as cv\n",
    "\n",
    "# preparting videoio registry \n",
    "availableBackends = [cv.videoio_registry.getBackendName(b) for b in cv.videoio_registry.getBackends()]\n",
    "print(availableBackends)\n",
    "\n",
    "cap = cv.VideoCapture(1)\n",
    "print(cap.get(5), cap.get(6))\n",
    "\n"
   ]
  },
  {
   "cell_type": "code",
   "execution_count": 47,
   "metadata": {},
   "outputs": [
    {
     "ename": "KeyboardInterrupt",
     "evalue": "",
     "output_type": "error",
     "traceback": [
      "\u001b[1;31m---------------------------------------------------------------------------\u001b[0m",
      "\u001b[1;31mKeyboardInterrupt\u001b[0m                         Traceback (most recent call last)",
      "Cell \u001b[1;32mIn[47], line 28\u001b[0m\n\u001b[0;32m     26\u001b[0m outputpath \u001b[38;5;241m=\u001b[39m \u001b[38;5;124m'\u001b[39m\u001b[38;5;124mtest5.mp4\u001b[39m\u001b[38;5;124m'\u001b[39m\n\u001b[0;32m     27\u001b[0m cap\u001b[38;5;241m.\u001b[39mset(\u001b[38;5;241m3\u001b[39m, \u001b[38;5;241m1920\u001b[39m)\n\u001b[1;32m---> 28\u001b[0m \u001b[43mcap\u001b[49m\u001b[38;5;241;43m.\u001b[39;49m\u001b[43mset\u001b[49m\u001b[43m(\u001b[49m\u001b[38;5;241;43m4\u001b[39;49m\u001b[43m,\u001b[49m\u001b[43m \u001b[49m\u001b[38;5;241;43m1080\u001b[39;49m\u001b[43m)\u001b[49m\n\u001b[0;32m     29\u001b[0m out \u001b[38;5;241m=\u001b[39m cv\u001b[38;5;241m.\u001b[39mVideoWriter(outputpath, fourcc, FPS, (cap\u001b[38;5;241m.\u001b[39mget(\u001b[38;5;241m3\u001b[39m), cap\u001b[38;5;241m.\u001b[39mget(\u001b[38;5;241m4\u001b[39m)))\n\u001b[0;32m     31\u001b[0m \u001b[38;5;28;01mwhile\u001b[39;00m cap\u001b[38;5;241m.\u001b[39misOpened():\n",
      "\u001b[1;31mKeyboardInterrupt\u001b[0m: "
     ]
    }
   ],
   "source": [
    "import numpy as np\n",
    "import cv2 as cv\n",
    "from datetime import datetime\n",
    "# https://www.geeksforgeeks.org/isoformat-method-of-datetime-class-in-python/\n",
    "\n",
    "cap = cv.VideoCapture(1)\n",
    "\n",
    "# FPS = 30.0\n",
    "# W = 1920\n",
    "# L = 1080\n",
    "# SIZE = (W, L)\n",
    "# cap.get(3), cap.get(4) can be used for W, L\n",
    "# https://docs.opencv.org/2.4/modules/highgui/doc/reading_and_writing_images_and_video.html?highlight=get#cv2.VideoCapture.get\n",
    "\n",
    "cap.set(3, 1920)\n",
    "# Define the codec and create VideoWriter object\n",
    "# fourcc = cv.VideoWriter_fourcc(*'mp4v')\n",
    "fourcc = cv.VideoWriter_fourcc('m','p','4','v')\n",
    "\n",
    "# today = date.today()\n",
    "now = datetime.now()\n",
    "\n",
    "# outputpath = \"output/\" + now.isoformat(\"-\",\"minutes\") + \".mp4\"\n",
    "# outputpath = now.isoformat(\"-\",\"minutes\") + \".mp4\"\n",
    "# outputpath = \"test3.avi\"\n",
    "outputpath = 'test5.mp4'\n",
    "cap.set(2, 30.0)\n",
    "cap.set(3, 1920)\n",
    "cap.set(4, 1080)\n",
    "out = cv.VideoWriter(outputpath, fourcc, FPS, (cap.get(3), cap.get(4)))\n",
    "\n",
    "while cap.isOpened():\n",
    "    ret, frame = cap.read()\n",
    "    if not ret:\n",
    "        print(\"Can't receive frame (stream end?). Exiting ...\")\n",
    "        break\n",
    "    frame = cv.flip(frame, 0)\n",
    "\n",
    "    # write the flipped frame\n",
    "    out.write(frame)\n",
    "\n",
    "    cv.imshow('frame', frame)\n",
    "    if cv.waitKey(1) == ord('q'):\n",
    "        break\n",
    "\n",
    "# Release everything if job is finished\n",
    "cap.release()\n",
    "out.release()\n",
    "cv.destroyAllWindows()"
   ]
  }
 ],
 "metadata": {
  "kernelspec": {
   "display_name": ".venv",
   "language": "python",
   "name": "python3"
  },
  "language_info": {
   "codemirror_mode": {
    "name": "ipython",
    "version": 3
   },
   "file_extension": ".py",
   "mimetype": "text/x-python",
   "name": "python",
   "nbconvert_exporter": "python",
   "pygments_lexer": "ipython3",
   "version": "3.13.1"
  }
 },
 "nbformat": 4,
 "nbformat_minor": 2
}
