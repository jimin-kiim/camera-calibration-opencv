{
 "cells": [
  {
   "cell_type": "code",
   "execution_count": null,
   "metadata": {},
   "outputs": [
    {
     "name": "stdout",
     "output_type": "stream",
     "text": [
      "['FFMPEG', 'GSTREAMER', 'INTEL_MFX', 'MSMF', 'MSMF', 'DSHOW', 'CV_IMAGES', 'CV_MJPEG', 'UEYE', 'OBSENSOR']\n",
      "30.0 22.0\n"
     ]
    }
   ],
   "source": [
    "import cv2 as cv\n",
    "\n",
    "# preparting videoio registry \n",
    "availableBackends = [cv.videoio_registry.getBackendName(b) for b in cv.videoio_registry.getBackends()]\n",
    "print(availableBackends)\n",
    "\n",
    "cap = cv.VideoCapture(1)\n",
    "print(cap.get(5), cap.get(6))\n",
    "\n",
    "\n"
   ]
  },
  {
   "cell_type": "code",
   "execution_count": 53,
   "metadata": {},
   "outputs": [
    {
     "name": "stdout",
     "output_type": "stream",
     "text": [
      "test.mp4\n"
     ]
    }
   ],
   "source": [
    "import numpy as np\n",
    "import cv2 as cv\n",
    "from datetime import datetime\n",
    "\n",
    "cap = cv.VideoCapture(1)\n",
    "\n",
    "# Define the codec and create VideoWriter object\n",
    "fourcc = cv.VideoWriter_fourcc(*'mp4v')\n",
    "# today = date.today()\n",
    "now = datetime.now()\n",
    "# outputpath = \"output/\" + now.isoformat(\"-\",\"minutes\") + \".mp4\"\n",
    "# outputpath = now.isoformat(\"-\",\"minutes\") + \".mp4\"\n",
    "outputpath = \"test.mp4\"\n",
    "print(outputpath)\n",
    "out = cv.VideoWriter(outputpath, fourcc, 30.0, (1920,  1080))\n",
    "\n",
    "\n",
    "while cap.isOpened():\n",
    "    ret, frame = cap.read()\n",
    "    if not ret:\n",
    "        print(\"Can't receive frame (stream end?). Exiting ...\")\n",
    "        break\n",
    "    frame = cv.flip(frame, 0)\n",
    "\n",
    "    # write the flipped frame\n",
    "    out.write(frame)\n",
    "\n",
    "    cv.imshow('frame', frame)\n",
    "    if cv.waitKey(1) == ord('q'):\n",
    "        break\n",
    "\n",
    "# Release everything if job is finished\n",
    "cap.release()\n",
    "out.release()\n",
    "cv.destroyAllWindows()"
   ]
  },
  {
   "cell_type": "code",
   "execution_count": 49,
   "metadata": {},
   "outputs": [
    {
     "ename": "error",
     "evalue": "OpenCV(4.11.0) :-1: error: (-5:Bad argument) in function 'VideoWriter'\n> Overload resolution failed:\n>  - Can't parse 'frameSize'. Sequence item with index 0 has a wrong type\n>  - VideoWriter() missing required argument 'frameSize' (pos 5)\n>  - VideoWriter() missing required argument 'params' (pos 5)\n>  - VideoWriter() missing required argument 'frameSize' (pos 5)\n",
     "output_type": "error",
     "traceback": [
      "\u001b[1;31m---------------------------------------------------------------------------\u001b[0m",
      "\u001b[1;31merror\u001b[0m                                     Traceback (most recent call last)",
      "Cell \u001b[1;32mIn[49], line 24\u001b[0m\n\u001b[0;32m     19\u001b[0m \u001b[38;5;66;03m# outputpath = \"output/\" + now.isoformat(\"-\",\"minutes\") + \".mp4\"\u001b[39;00m\n\u001b[0;32m     20\u001b[0m \u001b[38;5;66;03m# outputpath = now.isoformat(\"-\",\"minutes\") + \".mp4\"\u001b[39;00m\n\u001b[0;32m     21\u001b[0m \u001b[38;5;66;03m# outputpath = \"test3.avi\"\u001b[39;00m\n\u001b[0;32m     22\u001b[0m outputpath \u001b[38;5;241m=\u001b[39m \u001b[38;5;124m'\u001b[39m\u001b[38;5;124mtest5.mp4\u001b[39m\u001b[38;5;124m'\u001b[39m\n\u001b[1;32m---> 24\u001b[0m out \u001b[38;5;241m=\u001b[39m \u001b[43mcv\u001b[49m\u001b[38;5;241;43m.\u001b[39;49m\u001b[43mVideoWriter\u001b[49m\u001b[43m(\u001b[49m\u001b[43moutputpath\u001b[49m\u001b[43m,\u001b[49m\u001b[43m \u001b[49m\u001b[43mfourcc\u001b[49m\u001b[43m,\u001b[49m\u001b[43m \u001b[49m\u001b[43mcap\u001b[49m\u001b[38;5;241;43m.\u001b[39;49m\u001b[43mget\u001b[49m\u001b[43m(\u001b[49m\u001b[38;5;241;43m5\u001b[39;49m\u001b[43m)\u001b[49m\u001b[43m,\u001b[49m\u001b[43m \u001b[49m\u001b[43m(\u001b[49m\u001b[43mcap\u001b[49m\u001b[38;5;241;43m.\u001b[39;49m\u001b[43mget\u001b[49m\u001b[43m(\u001b[49m\u001b[38;5;241;43m3\u001b[39;49m\u001b[43m)\u001b[49m\u001b[43m,\u001b[49m\u001b[43m \u001b[49m\u001b[43mcap\u001b[49m\u001b[38;5;241;43m.\u001b[39;49m\u001b[43mget\u001b[49m\u001b[43m(\u001b[49m\u001b[38;5;241;43m4\u001b[39;49m\u001b[43m)\u001b[49m\u001b[43m)\u001b[49m\u001b[43m)\u001b[49m\n\u001b[0;32m     26\u001b[0m \u001b[38;5;28;01mwhile\u001b[39;00m cap\u001b[38;5;241m.\u001b[39misOpened():\n\u001b[0;32m     27\u001b[0m     ret, frame \u001b[38;5;241m=\u001b[39m cap\u001b[38;5;241m.\u001b[39mread()\n",
      "\u001b[1;31merror\u001b[0m: OpenCV(4.11.0) :-1: error: (-5:Bad argument) in function 'VideoWriter'\n> Overload resolution failed:\n>  - Can't parse 'frameSize'. Sequence item with index 0 has a wrong type\n>  - VideoWriter() missing required argument 'frameSize' (pos 5)\n>  - VideoWriter() missing required argument 'params' (pos 5)\n>  - VideoWriter() missing required argument 'frameSize' (pos 5)\n"
     ]
    }
   ],
   "source": [
    "import numpy as np\n",
    "import cv2 as cv\n",
    "from datetime import datetime\n",
    "# https://www.geeksforgeeks.org/isoformat-method-of-datetime-class-in-python/\n",
    "\n",
    "cap = cv.VideoCapture(1)\n",
    "cap.set(5, 30.0) # FPS\n",
    "cap.set(3, 1920) # WIDTH\n",
    "cap.set(4, 1080) # HEIGHT\n",
    "# https://docs.opencv.org/2.4/modules/highgui/doc/reading_and_writing_images_and_video.html?highlight=get#cv2.VideoCapture.get\n",
    "\n",
    "# Define the codec and create VideoWriter object\n",
    "fourcc = cv.VideoWriter_fourcc(*'mp4v')\n",
    "# fourcc = cv.VideoWriter_fourcc('m','p','4','v')\n",
    "\n",
    "# today = date.today()\n",
    "now = datetime.now()\n",
    "\n",
    "# outputpath = \"output/\" + now.isoformat(\"-\",\"minutes\") + \".mp4\"\n",
    "# outputpath = now.isoformat(\"-\",\"minutes\") + \".mp4\"\n",
    "# outputpath = \"test3.avi\"\n",
    "outputpath = 'test5.mp4'\n",
    "\n",
    "out = cv.VideoWriter(outputpath, fourcc, cap.get(5), (cap.get(3), cap.get(4)))\n",
    "\n",
    "while cap.isOpened():\n",
    "    ret, frame = cap.read()\n",
    "    if not ret:\n",
    "        print(\"Can't receive frame (stream end?). Exiting ...\")\n",
    "        break\n",
    "    frame = cv.flip(frame, 0)\n",
    "\n",
    "    # write the flipped frame\n",
    "    out.write(frame)\n",
    "\n",
    "    cv.imshow('frame', frame)\n",
    "    if cv.waitKey(1) == ord('q'):\n",
    "        break\n",
    "\n",
    "# Release everything if job is finished\n",
    "cap.release()\n",
    "out.release()\n",
    "cv.destroyAllWindows()"
   ]
  },
  {
   "cell_type": "code",
   "execution_count": null,
   "metadata": {},
   "outputs": [],
   "source": [
    "import numpy as np\n",
    "import cv2 as cv\n",
    "from datetime import datetime\n",
    "# https://www.geeksforgeeks.org/isoformat-method-of-datetime-class-in-python/\n",
    "\n",
    "cap = cv.VideoCapture(1)\n",
    "cap.set(5, 30.0) # FPS\n",
    "cap.set(3, 1920) # WIDTH\n",
    "cap.set(4, 1080) # HEIGHT\n",
    "# https://docs.opencv.org/2.4/modules/highgui/doc/reading_and_writing_images_and_video.html?highlight=get#cv2.VideoCapture.get\n",
    "\n",
    "# Define the codec and create VideoWriter object\n",
    "fourcc = cv.VideoWriter_fourcc(*'mp4v')\n",
    "# fourcc = cv.VideoWriter_fourcc('m','p','4','v')\n",
    "\n",
    "# today = date.today()\n",
    "now = datetime.now()\n",
    "\n",
    "# outputpath = \"output/\" + now.isoformat(\"-\",\"minutes\") + \".mp4\"\n",
    "# outputpath = now.isoformat(\"-\",\"minutes\") + \".mp4\"\n",
    "# outputpath = \"test3.avi\"\n",
    "outputpath = 'test5.mp4'\n",
    "\n",
    "out = cv.VideoWriter(outputpath, fourcc, cap.get(5), (cap.get(3), cap.get(4)))\n",
    "\n",
    "while cap.isOpened():\n",
    "    ret, frame = cap.read()\n",
    "    if not ret:\n",
    "        print(\"Can't receive frame (stream end?). Exiting ...\")\n",
    "        break\n",
    "    frame = cv.flip(frame, 0)\n",
    "\n",
    "    # write the flipped frame\n",
    "    out.write(frame)\n",
    "\n",
    "    cv.imshow('frame', frame)\n",
    "    if cv.waitKey(1) == ord('q'):\n",
    "        break\n",
    "\n",
    "# Release everything if job is finished\n",
    "cap.release()\n",
    "out.release()\n",
    "cv.destroyAllWindows()"
   ]
  }
 ],
 "metadata": {
  "kernelspec": {
   "display_name": ".venv",
   "language": "python",
   "name": "python3"
  },
  "language_info": {
   "codemirror_mode": {
    "name": "ipython",
    "version": 3
   },
   "file_extension": ".py",
   "mimetype": "text/x-python",
   "name": "python",
   "nbconvert_exporter": "python",
   "pygments_lexer": "ipython3",
   "version": "3.13.1"
  }
 },
 "nbformat": 4,
 "nbformat_minor": 2
}
