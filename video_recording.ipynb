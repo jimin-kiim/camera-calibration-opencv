{
 "cells": [
  {
   "cell_type": "code",
   "execution_count": 3,
   "metadata": {},
   "outputs": [
    {
     "name": "stdout",
     "output_type": "stream",
     "text": [
      "['FFMPEG', 'FFMPEG', 'GSTREAMER', 'INTEL_MFX', 'V4L2', 'CV_IMAGES', 'CV_MJPEG', 'UEYE', 'OBSENSOR']\n",
      "-1.0 861030210.0\n"
     ]
    },
    {
     "name": "stderr",
     "output_type": "stream",
     "text": [
      "[ WARN:0@48.084] global cap_gstreamer.cpp:2829 handleMessage OpenCV | GStreamer warning: Embedded video playback halted; module v4l2src0 reported: Failed to allocate required memory.\n",
      "[ WARN:0@48.086] global cap_gstreamer.cpp:1698 open OpenCV | GStreamer warning: unable to start pipeline\n",
      "[ WARN:0@48.086] global cap_gstreamer.cpp:1173 isPipelinePlaying OpenCV | GStreamer warning: GStreamer: pipeline have not been created\n",
      "[ WARN:0@48.113] global cap_v4l.cpp:1848 getProperty VIDEOIO(V4L2:/dev/video1): Unable to get camera FPS\n"
     ]
    }
   ],
   "source": [
    "import cv2 as cv\n",
    "\n",
    "# preparting videoio registry \n",
    "availableBackends = [cv.videoio_registry.getBackendName(b) for b in cv.videoio_registry.getBackends()]\n",
    "print(availableBackends)\n",
    "\n",
    "cap = cv.VideoCapture(1)\n",
    "print(cap.get(5), cap.get(6))\n",
    "\n",
    "\n"
   ]
  },
  {
   "cell_type": "code",
   "execution_count": 50,
   "metadata": {},
   "outputs": [
    {
     "name": "stdout",
     "output_type": "stream",
     "text": [
      "test.mp4\n"
     ]
    }
   ],
   "source": [
    "import numpy as np\n",
    "import cv2 as cv\n",
    "from datetime import datetime\n",
    "\n",
    "cap = cv.VideoCapture(1)\n",
    "\n",
    "# Define the codec and create VideoWriter object\n",
    "fourcc = cv.VideoWriter_fourcc(*'mp4v')\n",
    "# today = date.today()\n",
    "now = datetime.now()\n",
    "# outputpath = \"output/\" + now.isoformat(\"-\",\"minutes\") + \".mp4\"\n",
    "# outputpath = now.isoformat(\"-\",\"minutes\") + \".mp4\"\n",
    "outputpath = \"test.mp4\"\n",
    "print(outputpath)\n",
    "out = cv.VideoWriter(outputpath, fourcc, 30.0, (1920,  1080))\n",
    "\n",
    "\n",
    "while cap.isOpened():\n",
    "    ret, frame = cap.read()\n",
    "    if not ret:\n",
    "        print(\"Can't receive frame (stream end?). Exiting ...\")\n",
    "        break\n",
    "    frame = cv.flip(frame, 0)\n",
    "\n",
    "    # write the flipped frame\n",
    "    out.write(frame)\n",
    "\n",
    "    cv.imshow('frame', frame)\n",
    "    if cv.waitKey(1) == ord('q'):\n",
    "        break\n",
    "\n",
    "# Release everything if job is finished\n",
    "cap.release()\n",
    "out.release()\n",
    "cv.destroyAllWindows()"
   ]
  },
  {
   "cell_type": "markdown",
   "metadata": {},
   "source": [
    "https://docs.opencv.org/4.x/dd/d43/tutorial_py_video_display.html"
   ]
  },
  {
   "cell_type": "code",
   "execution_count": 57,
   "metadata": {},
   "outputs": [],
   "source": [
    "import numpy as np\n",
    "import cv2 as cv\n",
    "from datetime import datetime\n",
    "# https://www.geeksforgeeks.org/isoformat-method-of-datetime-class-in-python/\n",
    "\n",
    "cap = cv.VideoCapture(1)\n",
    "cap.set(5, 30.0) # FPS\n",
    "cap.set(3, 1920) # WIDTH\n",
    "cap.set(4, 1080) # HEIGHT\n",
    "# print(cap.get(5), cap.get(3), cap.get(4))\n",
    "# https://docs.opencv.org/2.4/modules/highgui/doc/reading_and_writing_images_and_video.html?highlight=get#cv2.VideoCapture.get\n",
    "\n",
    "# Define the codec and create VideoWriter object\n",
    "fourcc = cv.VideoWriter_fourcc(*'mp4v')\n",
    "# fourcc = cv.VideoWriter_fourcc('m','p','4','v')\n",
    "\n",
    "# today = date.today()\n",
    "now = datetime.now()\n",
    "\n",
    "# outputpath = \"output/\" + now.isoformat(\"-\",\"minutes\") + \".mp4\"\n",
    "# outputpath = now.isoformat(\"-\",\"minutes\") + \".mp4\"\n",
    "# outputpath = \"test3.avi\"\n",
    "outputpath = 'test6.mp4'\n",
    "\n",
    "# out = cv.VideoWriter(outputpath, fourcc, cap.get(5), (cap.get(3), cap.get(4)))\n",
    "out = cv.VideoWriter(outputpath, fourcc, 30.0, (1920, 1080))\n",
    "\n",
    "while cap.isOpened():\n",
    "    ret, frame = cap.read()\n",
    "    if not ret:\n",
    "        print(\"Can't receive frame (stream end?). Exiting ...\")\n",
    "        break\n",
    "    frame = cv.flip(frame, 0)\n",
    "\n",
    "    # write the flipped frame\n",
    "    out.write(frame)\n",
    "\n",
    "    cv.imshow('frame', frame)\n",
    "    if cv.waitKey(1) == ord('q'):\n",
    "        break\n",
    "\n",
    "# Release everything if job is finished\n",
    "cap.release()\n",
    "out.release()\n",
    "cv.destroyAllWindows()"
   ]
  },
  {
   "cell_type": "code",
   "execution_count": 26,
   "metadata": {},
   "outputs": [
    {
     "name": "stdout",
     "output_type": "stream",
     "text": [
      "2025-02-05 11:14:23.658264\n",
      "2025-05-02-111423\n",
      "OUTPUT PATH:  output/2025-05-02-111423.mp4\n"
     ]
    }
   ],
   "source": [
    "\n",
    "from datetime import datetime\n",
    "\n",
    "print(datetime.now())\n",
    "print(datetime.now().strftime(\"%Y-%d-%m-%H%M%S\"))\n",
    "fname=datetime.now().strftime(\"%Y-%d-%m-%H%M%S\") + \".mp4\"\n",
    "outputpath = \"output/\" + fname\n",
    "print(\"OUTPUT PATH: \", outputpath)"
   ]
  },
  {
   "cell_type": "code",
   "execution_count": 32,
   "metadata": {},
   "outputs": [],
   "source": [
    "import cv2 as cv\n",
    "\n",
    "cap = cv.VideoCapture(0)\n",
    "cap.set(5, 30.0) # FPS\n",
    "cap.set(3, 1920) # WIDTH\n",
    "cap.set(4, 1080) # HEIGHT\n",
    "assert cap.get(5) == 30.0\n",
    "assert cap.get(3) == 1920\n",
    "assert cap.get(4) == 1080"
   ]
  },
  {
   "cell_type": "markdown",
   "metadata": {},
   "source": [
    "## FINAL"
   ]
  },
  {
   "cell_type": "code",
   "execution_count": 52,
   "metadata": {},
   "outputs": [
    {
     "name": "stdout",
     "output_type": "stream",
     "text": [
      "FPS:  30.00003000003\n",
      "['2025-01-31.jpg', '2025-02-05-140252.mp4', '2025-02-05-140420.mp4', '2025-02-05-140600.mp4', '2025-02-05-140757.mp4', '2025-02-05-140945.mp4', '2025-02-05-142131.mp4', '2025-02-05-142226.mp4', '2025-02-05-142331.mp4', '2025-02-05-142727.mp4', '2025-02-05-155915.mp4', '2025-05-02-111516.mp4', '2025-05-02-112036.mp4', '2025-05-02-112337.mp4', '2025-05-02-113424.mp4', '2025-05-02-113534.mp4', '2025-05-02-114918.mp4', '2025-05-02-133536.mp4', '2025-05-02-133720.mp4', 'opencv_videoio_ffmpeg452_64.dll', 'opencv_video_calib.exe', 'opencv_video_undistort.exe', 'opencv_world452.dll']\n"
     ]
    }
   ],
   "source": [
    "import cv2 as cv\n",
    "from datetime import datetime\n",
    "import os\n",
    "\n",
    "cap = cv.VideoCapture(0, cv.CAP_DSHOW)\n",
    "cap.set(5, 30.0) # FPS\n",
    "cap.set(3, 1920) # WIDTH\n",
    "cap.set(4, 1080) # HEIGHT\n",
    "print(\"FPS: \", cap.get(5))\n",
    "# https://docs.opencv.org/2.4/modules/highgui/doc/reading_and_writing_images_and_video.html?highlight=get#cv2.VideoCapture.get\n",
    "# https://www.geeksforgeeks.org/python-assert-keyword/\n",
    "\n",
    "# Define the codec and create VideoWriter object\n",
    "fourcc = cv.VideoWriter_fourcc(*'mp4v')\n",
    "\n",
    "now = datetime.now()\n",
    "\n",
    "fname=datetime.now().strftime(\"%Y-%m-%d-%H%M%S\") + \".mp4\"\n",
    "outputpath = \"output/\" + fname\n",
    "out = cv.VideoWriter(outputpath, fourcc, 30.0, (1920, 1080))\n",
    "print(os.listdir(\"output\"))\n",
    "\n",
    "while cap.isOpened():\n",
    "    ret, frame = cap.read()\n",
    "    if not ret:\n",
    "        print(\"Can't receive frame (stream end?). Exiting ...\")\n",
    "        break\n",
    "\n",
    "    out.write(frame)\n",
    "    cv.imshow('frame', frame)\n",
    "\n",
    "    if cv.waitKey(1) == ord('q'):\n",
    "        cv.destroyAllWindows()\n",
    "        cap.release()\n",
    "        out.release()\n",
    "\n",
    "        break"
   ]
  },
  {
   "cell_type": "markdown",
   "metadata": {},
   "source": [
    "## Using GStreamer instead of hardcoding"
   ]
  },
  {
   "cell_type": "markdown",
   "metadata": {},
   "source": [
    "- conncect the crb\n",
    "- move to the working directory\n",
    "    - $ cd Works/2.isx031-preview\n",
    "- check and set the working directory available \n",
    "    - $ cat /sys/class/video4linux/*/name | grep isx\n",
    "    - $ chmod +x check_module.sh \n",
    "    - cat gst-e.sh .... : running each of the camreras\n",
    "    cat ./gst-run.sh : running all the cameras at once.\n",
    "- verify the list of available video devices    \n",
    "     - $ ls /dev/video*\n",
    "- create more shell scripts if needed\n",
    "    - $  cp gst-e.sh gst-f.sh \n",
    "    - $ vi gst-f.sh\n",
    "\n",
    "- open the code used til wednesday and apply the code for each of the cameras. (4 cameras.)\n",
    "- find out the camera matrix of them, respectively. (~ friday.)\n"
   ]
  },
  {
   "cell_type": "code",
   "execution_count": 11,
   "metadata": {},
   "outputs": [
    {
     "name": "stdout",
     "output_type": "stream",
     "text": [
      "1.26.4\n"
     ]
    }
   ],
   "source": [
    "import numpy as np\n",
    "print(np.__version__)"
   ]
  },
  {
   "cell_type": "code",
   "execution_count": 12,
   "metadata": {},
   "outputs": [
    {
     "name": "stdout",
     "output_type": "stream",
     "text": [
      "4.12.0-dev\n"
     ]
    }
   ],
   "source": [
    "import cv2 as cv\n",
    "print(cv.__version__)"
   ]
  },
  {
   "cell_type": "markdown",
   "metadata": {},
   "source": [
    "### Downloaded opencv source file following the official document.  + built and installed.\n",
    "https://docs.opencv.org/4.x/d2/de6/tutorial_py_setup_in_ubuntu.html\n",
    "\n",
    "\n",
    "At first, I used pip install opencv-python, opencv-python-contribute and it was installed inside the virtual environment. \n",
    "But the gstreamer line didn't work and even though I have tried other options instead the first trial.\n",
    "It kept showing that it doesn't work (\"the Video Capture instance is not opened) so I asked Max about it.\n",
    "->recommended to download the source file, build and install it manually. \n",
    "\n",
    "\n",
    "```text \n",
    "Verified that it supports GStreamer and version information as below:\n",
    "--   Video I/O:\n",
    "--     FFMPEG:                      YES\n",
    "--       avcodec:                   YES (58.134.100)\n",
    "--       avformat:                  YES (58.76.100)\n",
    "--       avutil:                    YES (56.70.100)\n",
    "--       swscale:                   YES (5.9.100)\n",
    "--       avresample:                NO\n",
    "--     GStreamer:                   YES (1.20.3)\n",
    "--     v4l/v4l2:                    YES (linux/videodev2.h)\n",
    "\n",
    "\n",
    "- General configuration for OpenCV 4.12.0-dev =====================================\n",
    "--   Version control:               4.11.0-108-g2e909c38dc\n",
    "```"
   ]
  },
  {
   "cell_type": "code",
   "execution_count": 13,
   "metadata": {},
   "outputs": [
    {
     "name": "stdout",
     "output_type": "stream",
     "text": [
      "Already applied /home/intel/Works/2.isx031-preview/opencv\n",
      "Already applied /usr/local\n",
      "['/usr/lib/python310.zip', '/usr/lib/python3.10', '/usr/lib/python3.10/lib-dynload', '', '/home/intel/.local/lib/python3.10/site-packages', '/usr/local/lib/python3.10/dist-packages', '/usr/lib/python3/dist-packages', '/home/intel/Works/2.isx031-preview/opencv', '/usr/local']\n"
     ]
    }
   ],
   "source": [
    "import sys\n",
    "# print(sys.path)\n",
    "path = '/home/intel/Works/2.isx031-preview/opencv'\n",
    "localpath = '/usr/local'\n",
    "\n",
    "sys_list = sys.path\n",
    "\n",
    "if path not in sys_list:\n",
    "    sys_list.append(path)\n",
    "else: \n",
    "    print(\"Already applied\", path)\n",
    "\n",
    "if localpath not in sys_list:\n",
    "    sys_list.append(localpath)\n",
    "else:\n",
    "    print(\"Already applied\", localpath)\n",
    "\n",
    "print(sys.path)\n"
   ]
  },
  {
   "cell_type": "code",
   "execution_count": 14,
   "metadata": {},
   "outputs": [
    {
     "name": "stdout",
     "output_type": "stream",
     "text": [
      "4.12.0-dev\n",
      "/usr/local/lib/python3.10/dist-packages/cv2/__init__.py\n"
     ]
    }
   ],
   "source": [
    "import sys\n",
    "import cv2 as cv\n",
    "print(cv.__version__)\n",
    "print(cv.__file__)"
   ]
  },
  {
   "cell_type": "code",
   "execution_count": 7,
   "metadata": {},
   "outputs": [
    {
     "name": "stdout",
     "output_type": "stream",
     "text": [
      "/lib/gstreamer-1.0:/lib/x86_64-linux-gnu/gstreamer-1.0\n"
     ]
    }
   ],
   "source": [
    "import os\n",
    "# import sys\n",
    "\n",
    "os.environ['GST_PLUGIN_PATH'] = '/lib/gstreamer-1.0:/lib/x86_64-linux-gnu/gstreamer-1.0'\n",
    "print(os.environ['GST_PLUGIN_PATH'])\n",
    "# print(sys.getenv('GST_PLUGIN_PATH'))\n",
    "\n",
    "\n",
    "\n",
    "# export GST_PLUGIN_PATH=/lib/gstreamer-1.0:/lib/x86_64-linux-gnu/gstreamer-1.0\n",
    "# rm -rf ~/.cache/gstreamer1.0\n",
    "# export cameraDebug=0\n"
   ]
  },
  {
   "cell_type": "code",
   "execution_count": 8,
   "metadata": {},
   "outputs": [
    {
     "name": "stdout",
     "output_type": "stream",
     "text": [
      "0\n"
     ]
    }
   ],
   "source": [
    "import os\n",
    "\n",
    "os.environ['cameraDebug'] = '0'\n",
    "print(os.environ['cameraDebug'])"
   ]
  },
  {
   "cell_type": "code",
   "execution_count": 2,
   "metadata": {},
   "outputs": [
    {
     "name": "stdout",
     "output_type": "stream",
     "text": [
      "/lib/gstreamer-1.0:/lib/x86_64-linux-gnu/gstreamer-1.0\n",
      "0\n",
      "FPS:  30.0\n",
      "True\n",
      "['2025-02-10-104027.mp4', 'cellouput.txt', '2025-02-11-101127.mp4', '2025-02-11-101114-h.mp4', '2025-01-31.jpg']\n"
     ]
    },
    {
     "name": "stderr",
     "output_type": "stream",
     "text": [
      "[ WARN:0@16.260] global cap_gstreamer.cpp:1777 open OpenCV | GStreamer warning: Cannot query video position: status=0, value=-1, duration=-1\n"
     ]
    }
   ],
   "source": [
    "import cv2 as cv\n",
    "from datetime import datetime\n",
    "import os\n",
    "\n",
    "os.environ['GST_PLUGIN_PATH'] = '/lib/gstreamer-1.0:/lib/x86_64-linux-gnu/gstreamer-1.0'\n",
    "print(os.environ['GST_PLUGIN_PATH'])\n",
    "\n",
    "os.environ['cameraDebug'] = '0'\n",
    "print(os.environ['cameraDebug'])\n",
    "\n",
    "gstreamer_str = \"icamerasrc device-name=isx031-e ! video/x-raw,format=UYVY,width=1920,height=1080,framerate=30/1 ! videoconvert ! appsink\"\n",
    "            # ximagesource\"\n",
    "            # ximagesink: video frame into XWindow local/remote display    \n",
    "# # gst-launch-1.0: build and run GStreamer pipeline. \n",
    "# icamerasrc: option for source file and in this case, it's for icamera, use 'icamersrc'\n",
    "# video/x-raw: unstructured and uncompressed raw video data. else: x-ffv, x-h263, x-huffyuv .... etc.     \n",
    "# # print-fps : ** couldn't find that where the value is printed. -> deleted      \n",
    "# video convert : one of GstVideo Convert Scale (video convert, video convert scale, video scale)\n",
    "\n",
    "# cap = cv.VideoCapture(1) -> [ WARN:0@982.602] global cap_v4l.cpp:913 open VIDEOIO(V4L2:/dev/video1): can't open camera by index\n",
    "cap = cv.VideoCapture(gstreamer_str, cv.CAP_GSTREAMER)\n",
    "\n",
    "\n",
    "# cap.set(5, 30.0) # FPS\n",
    "# cap.set(3, 1920) # WIDTH\n",
    "# cap.set(4, 1080) # HEIGHT\n",
    "print(\"FPS: \", cap.get(5))\n",
    "print(cap.isOpened())                                                                                        \n",
    "# https://docs.opencv.org/2.4/modules/highgui/doc/reading_and_writing_images_and_video.html?highlight=get#cv2.VideoCapture.get\n",
    "# https://www.geeksforgeeks.org/python-assert-keyword/\n",
    "\n",
    "# Define the codec and create VideoWriter object\n",
    "fourcc = cv.VideoWriter_fourcc(*'mp4v')\n",
    "\n",
    "now = datetime.now()                        \n",
    "\n",
    "fname=datetime.now().strftime(\"%Y-%m-%d-%H%M%S\") + \".mp4\"\n",
    "outputpath = \"output/\" + fname                                                                                                                                                                                                                                                                 \n",
    "out = cv.VideoWriter(outputpath, fourcc, 30.0, (1920, 1080))\n",
    "print(os.listdir(\"output\"))\n",
    "\n",
    "while cap.isOpened():\n",
    "    ret, frame = cap.read()\n",
    "    if not ret:\n",
    "        print(\"Can't receive frame (stream end?). Exiting ...\")\n",
    "        break\n",
    "\n",
    "    out.write(frame)\n",
    "    cv.imshow('frame', frame)\n",
    "\n",
    "    if cv.waitKey(1) == ord('q'):\n",
    "        cv.destroyAllWindows()\n",
    "        cap.release()\n",
    "        out.release()\n",
    "\n",
    "        break"
   ]
  },
  {
   "cell_type": "code",
   "execution_count": 1,
   "metadata": {},
   "outputs": [
    {
     "name": "stdout",
     "output_type": "stream",
     "text": [
      "GST_PLUGIN_PATH:  /lib/gstreamer-1.0:/lib/x86_64-linux-gnu/gstreamer-1.0\n",
      "cameraDebug:  0\n"
     ]
    },
    {
     "name": "stderr",
     "output_type": "stream",
     "text": [
      "[ WARN:0@3.554] global cap_gstreamer.cpp:1777 open OpenCV | GStreamer warning: Cannot query video position: status=0, value=-1, duration=-1\n"
     ]
    },
    {
     "name": "stdout",
     "output_type": "stream",
     "text": [
      "FPS:  30.0\n",
      "True\n",
      "['2025-02-10-104027.mp4', 'cellouput.txt', '2025-02-11-101114-h.mp4', '2025-01-31.jpg']\n"
     ]
    }
   ],
   "source": [
    "import cv2 as cv\n",
    "from datetime import datetime\n",
    "import os\n",
    "\n",
    "\n",
    "os.environ['GST_PLUGIN_PATH'] = '/lib/gstreamer-1.0:/lib/x86_64-linux-gnu/gstreamer-1.0'\n",
    "print(\"GST_PLUGIN_PATH: \",os.environ['GST_PLUGIN_PATH'])\n",
    "\n",
    "os.environ['cameraDebug'] = '0'\n",
    "print(\"cameraDebug: \", os.environ['cameraDebug'])\n",
    "\n",
    "camera_name = 'h'\n",
    "\n",
    "gstreamer_str = f\"icamerasrc device-name=isx031-{camera_name} ! video/x-raw,format=UYVY,width=1920,height=1080,framerate=30/1 ! videoconvert ! appsink\"\n",
    "            # ximagesource\"\n",
    "            # ximagesink: video frame into XWindow local/remote display    \n",
    "# # gst-launch-1.0: build and run GStreamer pipeline. \n",
    "# icamerasrc: option for source file and in this case, it's for icamera, use 'icamersrc'\n",
    "# video/x-raw: unstructured and uncompressed raw video data. else: x-ffv, x-h263, x-huffyuv .... etc.     \n",
    "# # print-fps : ** couldn't find that where the value is printed. -> deleted      \n",
    "# video convert : one of GstVideo Convert Scale (video convert, video convert scale, video scale)\n",
    "\n",
    "# cap = cv.VideoCapture(1) -> [ WARN:0@982.602] global cap_v4l.cpp:913 open VIDEOIO(V4L2:/dev/video1): can't open camera by index\n",
    "cap = cv.VideoCapture(gstreamer_str, cv.CAP_GSTREAMER)\n",
    "\n",
    "\n",
    "# cap.set(5, 30.0) # FPS\n",
    "# cap.set(3, 1920) # WIDTH\n",
    "# cap.set(4, 1080) # HEIGHT\n",
    "print(\"FPS: \", cap.get(5))\n",
    "print(cap.isOpened())                                                                                        \n",
    "# https://docs.opencv.org/2.4/modules/highgui/doc/reading_and_writing_images_and_video.html?highlight=get#cv2.VideoCapture.get\n",
    "# https://www.geeksforgeeks.org/python-assert-keyword/\n",
    "\n",
    "# Define the codec and create VideoWriter object\n",
    "fourcc = cv.VideoWriter_fourcc(*'mp4v')\n",
    "\n",
    "now = datetime.now()                        \n",
    "\n",
    "fname=datetime.now().strftime(\"%Y-%m-%d-%H%M%S\") + f\"-{camera_name}.mp4\"\n",
    "outputpath = \"output/\" + fname                                                                                                                                                                                                                                                                 \n",
    "out = cv.VideoWriter(outputpath, fourcc, 30.0, (1920, 1080))\n",
    "print(os.listdir(\"output\"))\n",
    "\n",
    "while cap.isOpened():\n",
    "    ret, frame = cap.read()\n",
    "    if not ret:\n",
    "        print(\"Can't receive frame (stream end?). Exiting ...\")\n",
    "        break\n",
    "\n",
    "    out.write(frame)\n",
    "    cv.imshow('frame', frame)\n",
    "\n",
    "    if cv.waitKey(1) == ord('q'):\n",
    "        cv.destroyAllWindows()\n",
    "        cap.release()\n",
    "        out.release()\n",
    "\n",
    "        break"
   ]
  },
  {
   "cell_type": "markdown",
   "metadata": {},
   "source": [
    "## Final code without comments"
   ]
  },
  {
   "cell_type": "code",
   "execution_count": null,
   "metadata": {},
   "outputs": [],
   "source": [
    "import cv2 as cv\n",
    "from datetime import datetime\n",
    "import os\n",
    "\n",
    "\n",
    "os.environ['GST_PLUGIN_PATH'] = '/lib/gstreamer-1.0:/lib/x86_64-linux-gnu/gstreamer-1.0'\n",
    "print(\"GST_PLUGIN_PATH: \",os.environ['GST_PLUGIN_PATH'])\n",
    "\n",
    "os.environ['cameraDebug'] = '0'\n",
    "print(\"cameraDebug: \", os.environ['cameraDebug'])\n",
    "\n",
    "camera_name = 'h'\n",
    "\n",
    "gstreamer_str = f\"icamerasrc device-name=isx031-{camera_name} ! video/x-raw,format=UYVY,width=1920,height=1080,framerate=30/1 ! videoconvert ! appsink\"\n",
    "\n",
    "cap = cv.VideoCapture(gstreamer_str, cv.CAP_GSTREAMER)\n",
    "\n",
    "print(\"FPS: \", cap.get(5))\n",
    "print(cap.isOpened())                                                                                        \n",
    "\n",
    "fourcc = cv.VideoWriter_fourcc(*'mp4v')\n",
    "\n",
    "now = datetime.now()                        \n",
    "\n",
    "fname=datetime.now().strftime(\"%Y-%m-%d-%H%M%S\") + f\"-{camera_name}.mp4\"\n",
    "outputpath = \"output/\" + fname                                                                                                                                                                                                                                                                 \n",
    "out = cv.VideoWriter(outputpath, fourcc, 30.0, (1920, 1080))\n",
    "print(os.listdir(\"output\"))\n",
    "\n",
    "while cap.isOpened():\n",
    "    ret, frame = cap.read()\n",
    "    if not ret:\n",
    "        print(\"Can't receive frame (stream end?). Exiting ...\")\n",
    "        break\n",
    "\n",
    "    out.write(frame)\n",
    "    cv.imshow('frame', frame)\n",
    "\n",
    "    if cv.waitKey(1) == ord('q'):\n",
    "        cv.destroyAllWindows()\n",
    "        cap.release()\n",
    "        out.release()\n",
    "\n",
    "        break"
   ]
  }
 ],
 "metadata": {
  "kernelspec": {
   "display_name": "Python 3",
   "language": "python",
   "name": "python3"
  },
  "language_info": {
   "codemirror_mode": {
    "name": "ipython",
    "version": 3
   },
   "file_extension": ".py",
   "mimetype": "text/x-python",
   "name": "python",
   "nbconvert_exporter": "python",
   "pygments_lexer": "ipython3",
   "version": "3.10.12"
  }
 },
 "nbformat": 4,
 "nbformat_minor": 2
}
